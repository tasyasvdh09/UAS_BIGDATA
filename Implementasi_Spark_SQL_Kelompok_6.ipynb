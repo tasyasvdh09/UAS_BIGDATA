{
  "nbformat": 4,
  "nbformat_minor": 0,
  "metadata": {
    "colab": {
      "provenance": [],
      "authorship_tag": "ABX9TyP25kUiR0B9KkrMAhcPBwh/",
      "include_colab_link": true
    },
    "kernelspec": {
      "name": "python3",
      "display_name": "Python 3"
    },
    "language_info": {
      "name": "python"
    }
  },
  "cells": [
    {
      "cell_type": "markdown",
      "metadata": {
        "id": "view-in-github",
        "colab_type": "text"
      },
      "source": [
        "<a href=\"https://colab.research.google.com/github/tasyasvdh09/UAS_BIGDATA/blob/main/Implementasi_Spark_SQL_Kelompok_6.ipynb\" target=\"_parent\"><img src=\"https://colab.research.google.com/assets/colab-badge.svg\" alt=\"Open In Colab\"/></a>"
      ]
    },
    {
      "cell_type": "markdown",
      "source": [
        "## **Ujian Akhir Semester (UAS) - BIG DATA**"
      ],
      "metadata": {
        "id": "eC0ZnePw9Yox"
      }
    },
    {
      "cell_type": "markdown",
      "source": [
        "**Kelompok 6**\n",
        "1. Annisa Mutiara\n",
        "2. Sindy Alvina Khoiriyah\n",
        "3. Tasya Sevia Adha"
      ],
      "metadata": {
        "id": "hVOFk-HS9Iw9"
      }
    },
    {
      "cell_type": "markdown",
      "source": [
        "### **Implementasi Spark SQL**"
      ],
      "metadata": {
        "id": "girt9AYQ8_o1"
      }
    },
    {
      "cell_type": "code",
      "source": [
        "# import folder yang ada di drive\n",
        "from google.colab import drive\n",
        "drive.mount('/content/drive')"
      ],
      "metadata": {
        "colab": {
          "base_uri": "https://localhost:8080/"
        },
        "id": "vw0WqddGDh4H",
        "outputId": "49527c06-36a6-4e1e-9685-b9eef239d5f6"
      },
      "execution_count": 3,
      "outputs": [
        {
          "output_type": "stream",
          "name": "stdout",
          "text": [
            "Mounted at /content/drive\n"
          ]
        }
      ]
    },
    {
      "cell_type": "code",
      "execution_count": 29,
      "metadata": {
        "colab": {
          "base_uri": "https://localhost:8080/"
        },
        "id": "bCHt4vQ68PAQ",
        "outputId": "e234099e-c41a-4cc7-b026-41fae81a1362"
      },
      "outputs": [
        {
          "output_type": "stream",
          "name": "stdout",
          "text": [
            "Looking in indexes: https://pypi.org/simple, https://us-python.pkg.dev/colab-wheels/public/simple/\n",
            "Requirement already satisfied: pyspark in /usr/local/lib/python3.10/dist-packages (3.4.0)\n",
            "Requirement already satisfied: py4j==0.10.9.7 in /usr/local/lib/python3.10/dist-packages (from pyspark) (0.10.9.7)\n"
          ]
        }
      ],
      "source": [
        "# Install Apache Spark\n",
        "!pip install pyspark"
      ]
    },
    {
      "cell_type": "code",
      "source": [
        "# Import SparkSession\n",
        "from pyspark.sql import SparkSession"
      ],
      "metadata": {
        "id": "3iJSyhhs82VF"
      },
      "execution_count": 30,
      "outputs": []
    },
    {
      "cell_type": "code",
      "source": [
        "# Inisialisasi SparkSession\n",
        "spark = SparkSession.builder \\\n",
        "    .appName(\"Implementasi Spark SQL\") \\\n",
        "    .getOrCreate()"
      ],
      "metadata": {
        "id": "Gif4hD3Z9zpN"
      },
      "execution_count": 31,
      "outputs": []
    },
    {
      "cell_type": "code",
      "source": [
        "# Membaca data dari file CSV\n",
        "df = spark.read.csv(\"/content/drive/MyDrive/BIG DATA/UAS/data dummy bigdata.csv\", header=True, inferSchema=True)"
      ],
      "metadata": {
        "id": "uSvzK4bb96LX"
      },
      "execution_count": 32,
      "outputs": []
    },
    {
      "cell_type": "code",
      "source": [
        "# Menampilkan schema dari DataFrame\n",
        "df.printSchema()"
      ],
      "metadata": {
        "colab": {
          "base_uri": "https://localhost:8080/"
        },
        "id": "unZRC1QxD1EG",
        "outputId": "3ba8f27e-826b-481f-bf65-b8c72e166151"
      },
      "execution_count": 33,
      "outputs": [
        {
          "output_type": "stream",
          "name": "stdout",
          "text": [
            "root\n",
            " |-- id: integer (nullable = true)\n",
            " |-- first_name: string (nullable = true)\n",
            " |-- last_name: string (nullable = true)\n",
            " |-- age: integer (nullable = true)\n",
            " |-- gender: string (nullable = true)\n",
            " |-- ethnicity: string (nullable = true)\n",
            " |-- birthdate: string (nullable = true)\n",
            " |-- address: string (nullable = true)\n",
            " |-- city: string (nullable = true)\n",
            " |-- country: string (nullable = true)\n",
            " |-- phone_number: string (nullable = true)\n",
            " |-- email: string (nullable = true)\n",
            " |-- major: string (nullable = true)\n",
            " |-- gpa: double (nullable = true)\n",
            " |-- university: string (nullable = true)\n",
            "\n"
          ]
        }
      ]
    },
    {
      "cell_type": "code",
      "source": [
        "# Menampilkan 30 baris pertama dari DataFrame\n",
        "df.show(30)"
      ],
      "metadata": {
        "colab": {
          "base_uri": "https://localhost:8080/"
        },
        "id": "EetOjLBjEHhh",
        "outputId": "66b9c4ed-22bd-407d-ae7c-33f682e85686"
      },
      "execution_count": 46,
      "outputs": [
        {
          "output_type": "stream",
          "name": "stdout",
          "text": [
            "+---+----------+----------+---+-----------+--------------------+----------+--------------------+-----------+--------------+------------+--------------------+----------------+----+--------------------+\n",
            "| id|first_name| last_name|age|     gender|           ethnicity| birthdate|             address|       city|       country|phone_number|               email|           major| gpa|          university|\n",
            "+---+----------+----------+---+-----------+--------------------+----------+--------------------+-----------+--------------+------------+--------------------+----------------+----+--------------------+\n",
            "|  1|    Shandy|    Lorait| 27|     Female|          Melanesian| 9/12/1975|03 Green Ridge Point| Washington| United States|202-160-7386|      slorait0@51.la|     Engineering|1.76|Hamilton Technica...|\n",
            "|  2|     Norma|Meneghelli| 51|     Female|                Cree| 8/22/1967|    58 Onsgard Court|    Milanów|        Poland|126-241-0283|nmeneghelli1@blog...|      Psychology|2.41|University of Warsaw|\n",
            "|  3|  Chauncey|    Ivatts| 62|       Male|    Central American|  1/9/1999|   959 Fuller Center|   Pęczniew|        Poland|120-159-4158|civatts2@blogline...|         Biology| 2.1|Medical Academy ...|\n",
            "|  4|   Barnabe|    Loades| 81|       Male|          Indonesian| 7/14/1976|268 Eastlawn Parkway|   Porecatu|        Brazil|102-532-1426|  bloades3@google.fr|     Engineering|2.94|Centro Universitá...|\n",
            "|  5|   Kirsten|     Aggio| 45|     Female|     Native Hawaiian|11/11/1962|     66116 Union Way|Padangtikar|     Indonesia|307-834-1979|     kaggio4@nyu.edu|     Engineering|1.19|Universitas Bunda...|\n",
            "|  6|       Yul|   MacGill| 75|   Bigender|         Argentinian|  2/9/1991|   83 Di Loreto Lane|      Jinli|         China|472-956-5329|      ymacgill5@g.co|      Psychology|2.12|Northeast Univers...|\n",
            "|  7| Theresina|  Luebbert| 71|     Female|              Navajo| 7/30/1961|        14 Duke Lane| Fiorentino|    San Marino|103-519-9881|tluebbert6@topsy.com|     Engineering|3.97|University of San...|\n",
            "|  8|   Hillier|   Cubbino| 93|       Male|                 Ute|12/12/1962| 982 Londonderry Way|   Sionogan|   Philippines|454-111-7536|    hcubbino7@va.gov|     Engineering| 2.0|Holy Angel Univer...|\n",
            "|  9|   Micaela|    Collin| 71|     Female|               Sioux| 8/25/1967| 6611 Maywood Street|       Ta`ū|American Samoa|860-265-5430|mcollin8@domainma...|         Biology|3.02|Buddhist Acamedy ...|\n",
            "| 10|  Herminia|   Nisbith| 93|     Female|            Filipino|  4/6/1979|   616 Hallows Alley|  Guadalupe|        Mexico|658-584-4540|hnisbith9@wordpre...|      Psychology|1.49|Universidad Valle...|\n",
            "| 11|     Hewie|      Pogg| 88|       Male|    Central American| 3/28/1957|   87 Spohn Junction|     Mbigou|         Gabon|430-614-2986|hpogga@squarespac...|         Biology|2.89|Université Omar B...|\n",
            "| 12|      Drew|    Basten| 45|       Male|                Crow| 7/13/1957| 0 Crest Line Street| El Quetzal|     Guatemala|263-198-2718|dbastenb@eventbri...|        Business|0.87| Universidad Galileo|\n",
            "| 13|      Aime|  Reidshaw| 62|     Female|          Salvadoran|10/31/1969|   70 Beilfuss Court|  Ranchuelo|          Cuba|788-320-5668|areidshawc@mozill...|         Biology|3.66|Instituto Superio...|\n",
            "| 14|       Wyn|  Vasyukov| 94|       Male|          Potawatomi|  7/4/1988|  88 Manitowish Lane|   Kasembon|     Indonesia|205-327-7530|    wvasyukovd@is.gd|Computer Science|2.95|Stie Perbanas Sur...|\n",
            "| 15|  Reinwald|  Boissier| 48|       Male|          Ecuadorian| 5/18/1999|   387 Waxwing Place| La Francia|     Argentina|873-759-1875|  rboissiere@tiny.cc|     Engineering|1.78|Instituto Univers...|\n",
            "| 16|   Lynette|     Dayce| 43|     Female|              Apache|  4/4/1976|       97 Dixon Lane|     Murcia|         Spain|707-562-1915|   ldaycef@tmall.com|         Biology| 0.8|Universitat Obert...|\n",
            "| 17|      Otha|     Stoke| 41|     Female|Latin American In...| 11/6/1955|   07682 Moland Road|   Malikisi|         Kenya|840-949-9752|ostokeg@shinystat...|      Psychology|0.58|United States Int...|\n",
            "| 18|    Floria|      Okie| 24|     Female|  Alaskan Athabascan| 8/19/1968|    3 Red Cloud Hill|Canavieiras|        Brazil|411-860-7059|fokieh@kickstarte...|     Engineering|0.37|Universidade São ...|\n",
            "| 19|    Merwyn|  Weildish| 27|       Male|    Central American|12/24/1994|    849 Morrow Court|      Luoqi|         China|619-863-3914|mweildishi@virgin...|      Psychology|3.63|Fujian Normal Uni...|\n",
            "| 20|     Suzie| St. Clair| 64|     Female|              Paiute| 9/23/1994|31527 Westerfield...|     Vittel|        France|492-304-0967| sstclairj@ocn.ne.jp|      Psychology|3.95|Ecole Nationale S...|\n",
            "| 21|    Joella|    Cumber| 61|     Female|               White|  1/9/1990|    1147 Buhler Road| Bagumbayan|   Philippines|433-710-8376|jcumberk@redcross...|         Biology|1.71| Arellano University|\n",
            "| 22| Gwendolin| Laugharne| 66|     Female|Latin American In...|  2/2/1973|   487 American Lane|   Taochuan|         China|364-765-1276|glaugharnel@googl...|         Biology|3.44|   Ludong University|\n",
            "| 23|    Fergus|    Meneer| 87|       Male|      Tohono O'Odham| 9/23/1955|    5 Memorial Court|    Tiguion|   Philippines|100-248-9999|fmeneerm@twitpic.com|Computer Science|3.46|University of Per...|\n",
            "| 24|    Ashlie| Molineaux| 70|     Female|          Sri Lankan|  7/1/1952|  8557 Anzinger Hill| Norrköping|        Sweden|477-856-8116|amolineauxn@mysql...|        Business|3.88|    Växjö University|\n",
            "| 25|    Grayce|     Draco| 89|     Female|           Chickasaw| 8/16/1954|83159 Rutledge Te...|  Antsohihy|    Madagascar|549-962-6352|gdracoo@theguardi...|      Psychology|0.55|Université de Tol...|\n",
            "| 26|      Saxe|    Heugle| 58|       Male|               Yaqui| 5/15/2005|   00 Anzinger Trail|    El Plan|      Honduras|792-184-2450|    sheuglep@mtv.com|        Business|0.68|Universidad José ...|\n",
            "| 27|   Ceciley|    Hawker| 88|     Female|                Thai| 2/15/1950|       3 Dapin Trail|Yanglinqiao|         China|663-414-3130| chawkerq@census.gov|     Engineering|3.34|   Shanxi University|\n",
            "| 28|    Stephi| Townshend| 94|     Female|          Indonesian| 4/12/1971|84085 Steensland ...| Tigarunggu|     Indonesia|750-705-2337|stownshendr@colum...|Computer Science|0.45|Institut Teknolog...|\n",
            "| 29|     Cathi|    Bruins| 89|     Female|           Menominee| 9/15/1956|346 Lakewood Gard...| Sanxixiang|         China|221-963-3306|     cbruinss@wp.com|Computer Science|1.92|Xi'an University ...|\n",
            "| 30|    Cherin|   Yoodall| 77|Genderfluid|          Vietnamese|11/30/1950|      7 Thierer Lane|      Lalig|   Philippines|321-612-0926|cyoodallt@ustream.tv|      Psychology|1.77|University of San...|\n",
            "+---+----------+----------+---+-----------+--------------------+----------+--------------------+-----------+--------------+------------+--------------------+----------------+----+--------------------+\n",
            "\n"
          ]
        }
      ]
    },
    {
      "cell_type": "code",
      "source": [
        "# Menjalankan query menggunakan Spark SQL\n",
        "df.createOrReplaceTempView(\"data\")"
      ],
      "metadata": {
        "id": "Slgzb0PwEK5G"
      },
      "execution_count": 35,
      "outputs": []
    },
    {
      "cell_type": "code",
      "source": [
        "# Menampilkan data yang diurutkan berdasarkan kolom first_name\n",
        "query = \"SELECT * FROM data ORDER BY first_name\"\n",
        "result = spark.sql(query)\n",
        "result.show()"
      ],
      "metadata": {
        "id": "v0gjZatQcQHb",
        "outputId": "b6b36ef0-016c-408e-ad10-daf999d65c4a",
        "colab": {
          "base_uri": "https://localhost:8080/"
        }
      },
      "execution_count": 114,
      "outputs": [
        {
          "output_type": "stream",
          "name": "stdout",
          "text": [
            "+---+----------+---------+---+-----------+--------------------+----------+--------------------+-----------+--------------+------------+--------------------+----------------+----+--------------------+\n",
            "| id|first_name|last_name|age|     gender|           ethnicity| birthdate|             address|       city|       country|phone_number|               email|           major| gpa|          university|\n",
            "+---+----------+---------+---+-----------+--------------------+----------+--------------------+-----------+--------------+------------+--------------------+----------------+----+--------------------+\n",
            "| 13|      Aime| Reidshaw| 62|     Female|          Salvadoran|10/31/1969|   70 Beilfuss Court|  Ranchuelo|          Cuba|788-320-5668|areidshawc@mozill...|         Biology|3.66|Instituto Superio...|\n",
            "| 24|    Ashlie|Molineaux| 70|     Female|          Sri Lankan|  7/1/1952|  8557 Anzinger Hill| Norrköping|        Sweden|477-856-8116|amolineauxn@mysql...|        Business|3.88|    Växjö University|\n",
            "|  4|   Barnabe|   Loades| 81|       Male|          Indonesian| 7/14/1976|268 Eastlawn Parkway|   Porecatu|        Brazil|102-532-1426|  bloades3@google.fr|     Engineering|2.94|Centro Universitá...|\n",
            "| 29|     Cathi|   Bruins| 89|     Female|           Menominee| 9/15/1956|346 Lakewood Gard...| Sanxixiang|         China|221-963-3306|     cbruinss@wp.com|Computer Science|1.92|Xi'an University ...|\n",
            "| 27|   Ceciley|   Hawker| 88|     Female|                Thai| 2/15/1950|       3 Dapin Trail|Yanglinqiao|         China|663-414-3130| chawkerq@census.gov|     Engineering|3.34|   Shanxi University|\n",
            "|  3|  Chauncey|   Ivatts| 62|       Male|    Central American|  1/9/1999|   959 Fuller Center|   Pęczniew|        Poland|120-159-4158|civatts2@blogline...|         Biology| 2.1|Medical Academy ...|\n",
            "| 30|    Cherin|  Yoodall| 77|Genderfluid|          Vietnamese|11/30/1950|      7 Thierer Lane|      Lalig|   Philippines|321-612-0926|cyoodallt@ustream.tv|      Psychology|1.77|University of San...|\n",
            "| 12|      Drew|   Basten| 45|       Male|                Crow| 7/13/1957| 0 Crest Line Street| El Quetzal|     Guatemala|263-198-2718|dbastenb@eventbri...|        Business|0.87| Universidad Galileo|\n",
            "| 23|    Fergus|   Meneer| 87|       Male|      Tohono O'Odham| 9/23/1955|    5 Memorial Court|    Tiguion|   Philippines|100-248-9999|fmeneerm@twitpic.com|Computer Science|3.46|University of Per...|\n",
            "| 18|    Floria|     Okie| 24|     Female|  Alaskan Athabascan| 8/19/1968|    3 Red Cloud Hill|Canavieiras|        Brazil|411-860-7059|fokieh@kickstarte...|     Engineering|0.37|Universidade São ...|\n",
            "| 25|    Grayce|    Draco| 89|     Female|           Chickasaw| 8/16/1954|83159 Rutledge Te...|  Antsohihy|    Madagascar|549-962-6352|gdracoo@theguardi...|      Psychology|0.55|Université de Tol...|\n",
            "| 22| Gwendolin|Laugharne| 66|     Female|Latin American In...|  2/2/1973|   487 American Lane|   Taochuan|         China|364-765-1276|glaugharnel@googl...|         Biology|3.44|   Ludong University|\n",
            "| 10|  Herminia|  Nisbith| 93|     Female|            Filipino|  4/6/1979|   616 Hallows Alley|  Guadalupe|        Mexico|658-584-4540|hnisbith9@wordpre...|      Psychology|1.49|Universidad Valle...|\n",
            "| 11|     Hewie|     Pogg| 88|       Male|    Central American| 3/28/1957|   87 Spohn Junction|     Mbigou|         Gabon|430-614-2986|hpogga@squarespac...|         Biology|2.89|Université Omar B...|\n",
            "|  8|   Hillier|  Cubbino| 93|       Male|                 Ute|12/12/1962| 982 Londonderry Way|   Sionogan|   Philippines|454-111-7536|    hcubbino7@va.gov|     Engineering| 2.0|Holy Angel Univer...|\n",
            "| 21|    Joella|   Cumber| 61|     Female|               White|  1/9/1990|    1147 Buhler Road| Bagumbayan|   Philippines|433-710-8376|jcumberk@redcross...|         Biology|1.71| Arellano University|\n",
            "|  5|   Kirsten|    Aggio| 45|     Female|     Native Hawaiian|11/11/1962|     66116 Union Way|Padangtikar|     Indonesia|307-834-1979|     kaggio4@nyu.edu|     Engineering|1.19|Universitas Bunda...|\n",
            "| 16|   Lynette|    Dayce| 43|     Female|              Apache|  4/4/1976|       97 Dixon Lane|     Murcia|         Spain|707-562-1915|   ldaycef@tmall.com|         Biology| 0.8|Universitat Obert...|\n",
            "| 19|    Merwyn| Weildish| 27|       Male|    Central American|12/24/1994|    849 Morrow Court|      Luoqi|         China|619-863-3914|mweildishi@virgin...|      Psychology|3.63|Fujian Normal Uni...|\n",
            "|  9|   Micaela|   Collin| 71|     Female|               Sioux| 8/25/1967| 6611 Maywood Street|       Ta`ū|American Samoa|860-265-5430|mcollin8@domainma...|         Biology|3.02|Buddhist Acamedy ...|\n",
            "+---+----------+---------+---+-----------+--------------------+----------+--------------------+-----------+--------------+------------+--------------------+----------------+----+--------------------+\n",
            "only showing top 20 rows\n",
            "\n"
          ]
        }
      ]
    },
    {
      "cell_type": "code",
      "source": [
        "# Menampilkan kolom \"first_name\", \"address\", \"city\", \"country\", \"phone_number\" dan \"email\"\n",
        "query = \"SELECT id, first_name, address, city, country, phone_number, email FROM data\"\n",
        "result = spark.sql(query)\n",
        "result.show(15)"
      ],
      "metadata": {
        "id": "w1bTvWGNjrqp",
        "outputId": "74acc8f9-4abb-49ce-b808-d0211d30642b",
        "colab": {
          "base_uri": "https://localhost:8080/"
        }
      },
      "execution_count": 115,
      "outputs": [
        {
          "output_type": "stream",
          "name": "stdout",
          "text": [
            "+---+----------+--------------------+-----------+--------------+------------+--------------------+\n",
            "| id|first_name|             address|       city|       country|phone_number|               email|\n",
            "+---+----------+--------------------+-----------+--------------+------------+--------------------+\n",
            "|  1|    Shandy|03 Green Ridge Point| Washington| United States|202-160-7386|      slorait0@51.la|\n",
            "|  2|     Norma|    58 Onsgard Court|    Milanów|        Poland|126-241-0283|nmeneghelli1@blog...|\n",
            "|  3|  Chauncey|   959 Fuller Center|   Pęczniew|        Poland|120-159-4158|civatts2@blogline...|\n",
            "|  4|   Barnabe|268 Eastlawn Parkway|   Porecatu|        Brazil|102-532-1426|  bloades3@google.fr|\n",
            "|  5|   Kirsten|     66116 Union Way|Padangtikar|     Indonesia|307-834-1979|     kaggio4@nyu.edu|\n",
            "|  6|       Yul|   83 Di Loreto Lane|      Jinli|         China|472-956-5329|      ymacgill5@g.co|\n",
            "|  7| Theresina|        14 Duke Lane| Fiorentino|    San Marino|103-519-9881|tluebbert6@topsy.com|\n",
            "|  8|   Hillier| 982 Londonderry Way|   Sionogan|   Philippines|454-111-7536|    hcubbino7@va.gov|\n",
            "|  9|   Micaela| 6611 Maywood Street|       Ta`ū|American Samoa|860-265-5430|mcollin8@domainma...|\n",
            "| 10|  Herminia|   616 Hallows Alley|  Guadalupe|        Mexico|658-584-4540|hnisbith9@wordpre...|\n",
            "| 11|     Hewie|   87 Spohn Junction|     Mbigou|         Gabon|430-614-2986|hpogga@squarespac...|\n",
            "| 12|      Drew| 0 Crest Line Street| El Quetzal|     Guatemala|263-198-2718|dbastenb@eventbri...|\n",
            "| 13|      Aime|   70 Beilfuss Court|  Ranchuelo|          Cuba|788-320-5668|areidshawc@mozill...|\n",
            "| 14|       Wyn|  88 Manitowish Lane|   Kasembon|     Indonesia|205-327-7530|    wvasyukovd@is.gd|\n",
            "| 15|  Reinwald|   387 Waxwing Place| La Francia|     Argentina|873-759-1875|  rboissiere@tiny.cc|\n",
            "+---+----------+--------------------+-----------+--------------+------------+--------------------+\n",
            "only showing top 15 rows\n",
            "\n"
          ]
        }
      ]
    },
    {
      "cell_type": "code",
      "source": [
        "# Menampilkan data id, first_name, birthdate yang huruf awal dari first_name adalah 'C'\n",
        "query = \"SELECT id, first_name, birthdate FROM data WHERE LEFT(first_name, 1) = 'C'\"\n",
        "result = spark.sql(query)\n",
        "result.show()"
      ],
      "metadata": {
        "id": "ShLyO_ali-s7",
        "outputId": "8f55d356-ce67-4d58-d119-eec01cea710f",
        "colab": {
          "base_uri": "https://localhost:8080/"
        }
      },
      "execution_count": 116,
      "outputs": [
        {
          "output_type": "stream",
          "name": "stdout",
          "text": [
            "+---+----------+----------+\n",
            "| id|first_name| birthdate|\n",
            "+---+----------+----------+\n",
            "|  3|  Chauncey|  1/9/1999|\n",
            "| 27|   Ceciley| 2/15/1950|\n",
            "| 29|     Cathi| 9/15/1956|\n",
            "| 30|    Cherin|11/30/1950|\n",
            "+---+----------+----------+\n",
            "\n"
          ]
        }
      ]
    },
    {
      "cell_type": "code",
      "source": [
        "# Menampilkan data yang diurutkan berdasarkan kolom \"age\" secara menurun\n",
        "query = \"SELECT * FROM data ORDER BY age DESC\"\n",
        "result = spark.sql(query)\n",
        "result.show(10)"
      ],
      "metadata": {
        "id": "08Js2Dbkcnak",
        "outputId": "bb5b3b32-fafd-48ac-be05-38252aaaa1a6",
        "colab": {
          "base_uri": "https://localhost:8080/"
        }
      },
      "execution_count": 117,
      "outputs": [
        {
          "output_type": "stream",
          "name": "stdout",
          "text": [
            "+---+----------+---------+---+------+----------------+----------+--------------------+-----------+-----------+------------+--------------------+----------------+----+--------------------+\n",
            "| id|first_name|last_name|age|gender|       ethnicity| birthdate|             address|       city|    country|phone_number|               email|           major| gpa|          university|\n",
            "+---+----------+---------+---+------+----------------+----------+--------------------+-----------+-----------+------------+--------------------+----------------+----+--------------------+\n",
            "| 14|       Wyn| Vasyukov| 94|  Male|      Potawatomi|  7/4/1988|  88 Manitowish Lane|   Kasembon|  Indonesia|205-327-7530|    wvasyukovd@is.gd|Computer Science|2.95|Stie Perbanas Sur...|\n",
            "| 28|    Stephi|Townshend| 94|Female|      Indonesian| 4/12/1971|84085 Steensland ...| Tigarunggu|  Indonesia|750-705-2337|stownshendr@colum...|Computer Science|0.45|Institut Teknolog...|\n",
            "|  8|   Hillier|  Cubbino| 93|  Male|             Ute|12/12/1962| 982 Londonderry Way|   Sionogan|Philippines|454-111-7536|    hcubbino7@va.gov|     Engineering| 2.0|Holy Angel Univer...|\n",
            "| 10|  Herminia|  Nisbith| 93|Female|        Filipino|  4/6/1979|   616 Hallows Alley|  Guadalupe|     Mexico|658-584-4540|hnisbith9@wordpre...|      Psychology|1.49|Universidad Valle...|\n",
            "| 25|    Grayce|    Draco| 89|Female|       Chickasaw| 8/16/1954|83159 Rutledge Te...|  Antsohihy| Madagascar|549-962-6352|gdracoo@theguardi...|      Psychology|0.55|Université de Tol...|\n",
            "| 29|     Cathi|   Bruins| 89|Female|       Menominee| 9/15/1956|346 Lakewood Gard...| Sanxixiang|      China|221-963-3306|     cbruinss@wp.com|Computer Science|1.92|Xi'an University ...|\n",
            "| 11|     Hewie|     Pogg| 88|  Male|Central American| 3/28/1957|   87 Spohn Junction|     Mbigou|      Gabon|430-614-2986|hpogga@squarespac...|         Biology|2.89|Université Omar B...|\n",
            "| 27|   Ceciley|   Hawker| 88|Female|            Thai| 2/15/1950|       3 Dapin Trail|Yanglinqiao|      China|663-414-3130| chawkerq@census.gov|     Engineering|3.34|   Shanxi University|\n",
            "| 23|    Fergus|   Meneer| 87|  Male|  Tohono O'Odham| 9/23/1955|    5 Memorial Court|    Tiguion|Philippines|100-248-9999|fmeneerm@twitpic.com|Computer Science|3.46|University of Per...|\n",
            "|  4|   Barnabe|   Loades| 81|  Male|      Indonesian| 7/14/1976|268 Eastlawn Parkway|   Porecatu|     Brazil|102-532-1426|  bloades3@google.fr|     Engineering|2.94|Centro Universitá...|\n",
            "+---+----------+---------+---+------+----------------+----------+--------------------+-----------+-----------+------------+--------------------+----------------+----+--------------------+\n",
            "only showing top 10 rows\n",
            "\n"
          ]
        }
      ]
    },
    {
      "cell_type": "code",
      "source": [
        "# Menampilkan usia yang lebih dari 90 tahun\n",
        "query = \"SELECT * FROM data WHERE age > 90\"\n",
        "result = spark.sql(query)\n",
        "result.show()"
      ],
      "metadata": {
        "id": "Mj86da76Wb1E",
        "outputId": "afbe8061-918e-4d96-df0a-e42af11da12c",
        "colab": {
          "base_uri": "https://localhost:8080/"
        }
      },
      "execution_count": 122,
      "outputs": [
        {
          "output_type": "stream",
          "name": "stdout",
          "text": [
            "+---+----------+---------+---+------+----------+----------+--------------------+----------+-----------+------------+--------------------+----------------+----+--------------------+\n",
            "| id|first_name|last_name|age|gender| ethnicity| birthdate|             address|      city|    country|phone_number|               email|           major| gpa|          university|\n",
            "+---+----------+---------+---+------+----------+----------+--------------------+----------+-----------+------------+--------------------+----------------+----+--------------------+\n",
            "|  8|   Hillier|  Cubbino| 93|  Male|       Ute|12/12/1962| 982 Londonderry Way|  Sionogan|Philippines|454-111-7536|    hcubbino7@va.gov|     Engineering| 2.0|Holy Angel Univer...|\n",
            "| 10|  Herminia|  Nisbith| 93|Female|  Filipino|  4/6/1979|   616 Hallows Alley| Guadalupe|     Mexico|658-584-4540|hnisbith9@wordpre...|      Psychology|1.49|Universidad Valle...|\n",
            "| 14|       Wyn| Vasyukov| 94|  Male|Potawatomi|  7/4/1988|  88 Manitowish Lane|  Kasembon|  Indonesia|205-327-7530|    wvasyukovd@is.gd|Computer Science|2.95|Stie Perbanas Sur...|\n",
            "| 28|    Stephi|Townshend| 94|Female|Indonesian| 4/12/1971|84085 Steensland ...|Tigarunggu|  Indonesia|750-705-2337|stownshendr@colum...|Computer Science|0.45|Institut Teknolog...|\n",
            "+---+----------+---------+---+------+----------+----------+--------------------+----------+-----------+------------+--------------------+----------------+----+--------------------+\n",
            "\n"
          ]
        }
      ]
    },
    {
      "cell_type": "code",
      "source": [
        "# Menampilkan data dengan usia antara 60 sampai 70 tahun\n",
        "query = \"SELECT * FROM data WHERE age BETWEEN 60 AND 70\"\n",
        "result = spark.sql(query)\n",
        "result.show()"
      ],
      "metadata": {
        "id": "LUXvKRkyYq4y",
        "outputId": "17f4ad8e-b1f1-48ab-fec2-c609e3f90265",
        "colab": {
          "base_uri": "https://localhost:8080/"
        }
      },
      "execution_count": 121,
      "outputs": [
        {
          "output_type": "stream",
          "name": "stdout",
          "text": [
            "+---+----------+---------+---+------+--------------------+----------+--------------------+----------+-----------+------------+--------------------+----------+----+--------------------+\n",
            "| id|first_name|last_name|age|gender|           ethnicity| birthdate|             address|      city|    country|phone_number|               email|     major| gpa|          university|\n",
            "+---+----------+---------+---+------+--------------------+----------+--------------------+----------+-----------+------------+--------------------+----------+----+--------------------+\n",
            "|  3|  Chauncey|   Ivatts| 62|  Male|    Central American|  1/9/1999|   959 Fuller Center|  Pęczniew|     Poland|120-159-4158|civatts2@blogline...|   Biology| 2.1|Medical Academy ...|\n",
            "| 13|      Aime| Reidshaw| 62|Female|          Salvadoran|10/31/1969|   70 Beilfuss Court| Ranchuelo|       Cuba|788-320-5668|areidshawc@mozill...|   Biology|3.66|Instituto Superio...|\n",
            "| 20|     Suzie|St. Clair| 64|Female|              Paiute| 9/23/1994|31527 Westerfield...|    Vittel|     France|492-304-0967| sstclairj@ocn.ne.jp|Psychology|3.95|Ecole Nationale S...|\n",
            "| 21|    Joella|   Cumber| 61|Female|               White|  1/9/1990|    1147 Buhler Road|Bagumbayan|Philippines|433-710-8376|jcumberk@redcross...|   Biology|1.71| Arellano University|\n",
            "| 22| Gwendolin|Laugharne| 66|Female|Latin American In...|  2/2/1973|   487 American Lane|  Taochuan|      China|364-765-1276|glaugharnel@googl...|   Biology|3.44|   Ludong University|\n",
            "| 24|    Ashlie|Molineaux| 70|Female|          Sri Lankan|  7/1/1952|  8557 Anzinger Hill|Norrköping|     Sweden|477-856-8116|amolineauxn@mysql...|  Business|3.88|    Växjö University|\n",
            "+---+----------+---------+---+------+--------------------+----------+--------------------+----------+-----------+------------+--------------------+----------+----+--------------------+\n",
            "\n"
          ]
        }
      ]
    },
    {
      "cell_type": "code",
      "source": [
        "# Menampilkan rata-rata usia\n",
        "query = \"SELECT AVG(age) AS average_age FROM data\"\n",
        "result = spark.sql(query)\n",
        "result.show()"
      ],
      "metadata": {
        "colab": {
          "base_uri": "https://localhost:8080/"
        },
        "id": "OyXwedTYJVTd",
        "outputId": "34c09ec7-e810-439a-8b41-3ac67862dc1c"
      },
      "execution_count": 123,
      "outputs": [
        {
          "output_type": "stream",
          "name": "stdout",
          "text": [
            "+-----------------+\n",
            "|      average_age|\n",
            "+-----------------+\n",
            "|66.13333333333334|\n",
            "+-----------------+\n",
            "\n"
          ]
        }
      ]
    },
    {
      "cell_type": "code",
      "source": [
        "# Menampilkan jumlah data per jurusan\n",
        "query = \"SELECT major, COUNT(*) AS count FROM data GROUP BY major\"\n",
        "result = spark.sql(query)\n",
        "result.show()"
      ],
      "metadata": {
        "id": "JXWmXVm8aVvA",
        "outputId": "422280f1-3383-41ad-f2bc-0de5e6fc607d",
        "colab": {
          "base_uri": "https://localhost:8080/"
        }
      },
      "execution_count": 124,
      "outputs": [
        {
          "output_type": "stream",
          "name": "stdout",
          "text": [
            "+----------------+-----+\n",
            "|           major|count|\n",
            "+----------------+-----+\n",
            "|     Engineering|    8|\n",
            "|      Psychology|    8|\n",
            "|        Business|    3|\n",
            "|Computer Science|    4|\n",
            "|         Biology|    7|\n",
            "+----------------+-----+\n",
            "\n"
          ]
        }
      ]
    },
    {
      "cell_type": "code",
      "source": [
        "# Menampilkan jumlah data gender per kategori \"Female\"\n",
        "query = \"SELECT gender, COUNT(*) AS count FROM data WHERE gender = 'Female' GROUP BY gender\"\n",
        "result = spark.sql(query)\n",
        "result.show()"
      ],
      "metadata": {
        "id": "RhruXdkddYhT",
        "outputId": "c10d7153-2e37-44e1-f3ef-bb7cfba80548",
        "colab": {
          "base_uri": "https://localhost:8080/"
        }
      },
      "execution_count": 125,
      "outputs": [
        {
          "output_type": "stream",
          "name": "stdout",
          "text": [
            "+------+-----+\n",
            "|gender|count|\n",
            "+------+-----+\n",
            "|Female|   18|\n",
            "+------+-----+\n",
            "\n"
          ]
        }
      ]
    },
    {
      "cell_type": "code",
      "source": [
        "# Menampilkan data nama, jurusan, ipk, dan universitas dengan nilai tertinggi per jurusan\n",
        "query = \"SELECT first_name, last_name, major, gpa, university FROM (SELECT first_name, last_name, major, gpa, university, ROW_NUMBER() OVER (PARTITION BY major ORDER BY gpa DESC) AS rank FROM data) ranked WHERE rank = 1\"\n",
        "result = spark.sql(query)\n",
        "result.show()"
      ],
      "metadata": {
        "colab": {
          "base_uri": "https://localhost:8080/"
        },
        "id": "OeDnSOAzP38J",
        "outputId": "6b516feb-aadd-48ed-8639-335ba7fd4906"
      },
      "execution_count": 126,
      "outputs": [
        {
          "output_type": "stream",
          "name": "stdout",
          "text": [
            "+----------+---------+----------------+----+--------------------+\n",
            "|first_name|last_name|           major| gpa|          university|\n",
            "+----------+---------+----------------+----+--------------------+\n",
            "|      Aime| Reidshaw|         Biology|3.66|Instituto Superio...|\n",
            "|    Ashlie|Molineaux|        Business|3.88|    Växjö University|\n",
            "|    Fergus|   Meneer|Computer Science|3.46|University of Per...|\n",
            "| Theresina| Luebbert|     Engineering|3.97|University of San...|\n",
            "|     Suzie|St. Clair|      Psychology|3.95|Ecole Nationale S...|\n",
            "+----------+---------+----------------+----+--------------------+\n",
            "\n"
          ]
        }
      ]
    },
    {
      "cell_type": "code",
      "source": [
        "# Menutup SparkSession\n",
        "spark.stop()"
      ],
      "metadata": {
        "id": "W6TYk5DZR3sF"
      },
      "execution_count": 127,
      "outputs": []
    },
    {
      "cell_type": "code",
      "source": [],
      "metadata": {
        "id": "QKwlyrsSUwJj"
      },
      "execution_count": null,
      "outputs": []
    }
  ]
}