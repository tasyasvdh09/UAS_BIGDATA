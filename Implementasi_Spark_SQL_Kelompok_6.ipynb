{
  "nbformat": 4,
  "nbformat_minor": 0,
  "metadata": {
    "colab": {
      "provenance": [],
      "authorship_tag": "ABX9TyNyyms1O8s/nYEF1Tu6sdE6",
      "include_colab_link": true
    },
    "kernelspec": {
      "name": "python3",
      "display_name": "Python 3"
    },
    "language_info": {
      "name": "python"
    }
  },
  "cells": [
    {
      "cell_type": "markdown",
      "metadata": {
        "id": "view-in-github",
        "colab_type": "text"
      },
      "source": [
        "<a href=\"https://colab.research.google.com/github/tasyasvdh09/UAS_BIGDATA/blob/main/Implementasi_Spark_SQL_Kelompok_6.ipynb\" target=\"_parent\"><img src=\"https://colab.research.google.com/assets/colab-badge.svg\" alt=\"Open In Colab\"/></a>"
      ]
    },
    {
      "cell_type": "markdown",
      "source": [
        "## **Ujian Akhir Semester (UAS) - BIG DATA**"
      ],
      "metadata": {
        "id": "eC0ZnePw9Yox"
      }
    },
    {
      "cell_type": "markdown",
      "source": [
        "**Kelompok 6**\n",
        "1. Annisa Mutiara\n",
        "2. Sindy Alvina Khoiriyah\n",
        "3. Tasya Sevia Adha"
      ],
      "metadata": {
        "id": "hVOFk-HS9Iw9"
      }
    },
    {
      "cell_type": "markdown",
      "source": [
        "### **Implementasi Spark SQL**"
      ],
      "metadata": {
        "id": "girt9AYQ8_o1"
      }
    },
    {
      "cell_type": "code",
      "source": [
        "# import folder yang ada di drive\n",
        "from google.colab import drive\n",
        "drive.mount('/content/drive')"
      ],
      "metadata": {
        "colab": {
          "base_uri": "https://localhost:8080/"
        },
        "id": "vw0WqddGDh4H",
        "outputId": "49527c06-36a6-4e1e-9685-b9eef239d5f6"
      },
      "execution_count": 3,
      "outputs": [
        {
          "output_type": "stream",
          "name": "stdout",
          "text": [
            "Mounted at /content/drive\n"
          ]
        }
      ]
    },
    {
      "cell_type": "code",
      "execution_count": 4,
      "metadata": {
        "colab": {
          "base_uri": "https://localhost:8080/"
        },
        "id": "bCHt4vQ68PAQ",
        "outputId": "ef21e094-efc7-4d4f-c8a8-8ebf535a579c"
      },
      "outputs": [
        {
          "output_type": "stream",
          "name": "stdout",
          "text": [
            "Looking in indexes: https://pypi.org/simple, https://us-python.pkg.dev/colab-wheels/public/simple/\n",
            "Collecting pyspark\n",
            "  Downloading pyspark-3.4.0.tar.gz (310.8 MB)\n",
            "\u001b[2K     \u001b[90m━━━━━━━━━━━━━━━━━━━━━━━━━━━━━━━━━━━━━━━\u001b[0m \u001b[32m310.8/310.8 MB\u001b[0m \u001b[31m2.0 MB/s\u001b[0m eta \u001b[36m0:00:00\u001b[0m\n",
            "\u001b[?25h  Preparing metadata (setup.py) ... \u001b[?25l\u001b[?25hdone\n",
            "Requirement already satisfied: py4j==0.10.9.7 in /usr/local/lib/python3.10/dist-packages (from pyspark) (0.10.9.7)\n",
            "Building wheels for collected packages: pyspark\n",
            "  Building wheel for pyspark (setup.py) ... \u001b[?25l\u001b[?25hdone\n",
            "  Created wheel for pyspark: filename=pyspark-3.4.0-py2.py3-none-any.whl size=311317130 sha256=e51498e542dc1b200c67b90f42ff84c8f4b180db5c3da48c5b3b1d327d9403ee\n",
            "  Stored in directory: /root/.cache/pip/wheels/7b/1b/4b/3363a1d04368e7ff0d408e57ff57966fcdf00583774e761327\n",
            "Successfully built pyspark\n",
            "Installing collected packages: pyspark\n",
            "Successfully installed pyspark-3.4.0\n"
          ]
        }
      ],
      "source": [
        "# Install Apache Spark\n",
        "!pip install pyspark"
      ]
    },
    {
      "cell_type": "code",
      "source": [
        "# Import SparkSession\n",
        "from pyspark.sql import SparkSession"
      ],
      "metadata": {
        "id": "3iJSyhhs82VF"
      },
      "execution_count": 5,
      "outputs": []
    },
    {
      "cell_type": "code",
      "source": [
        "# Inisialisasi SparkSession\n",
        "spark = SparkSession.builder \\\n",
        "    .appName(\"Implementasi Spark SQL\") \\\n",
        "    .getOrCreate()"
      ],
      "metadata": {
        "id": "Gif4hD3Z9zpN"
      },
      "execution_count": 6,
      "outputs": []
    },
    {
      "cell_type": "code",
      "source": [
        "# Membaca data dari file CSV\n",
        "df = spark.read.csv(\"/content/drive/MyDrive/BIG DATA/UAS/data dummy bigdata.csv\", header=True, inferSchema=True)"
      ],
      "metadata": {
        "id": "uSvzK4bb96LX"
      },
      "execution_count": 7,
      "outputs": []
    },
    {
      "cell_type": "code",
      "source": [
        "# Menampilkan schema dari DataFrame\n",
        "df.printSchema()"
      ],
      "metadata": {
        "colab": {
          "base_uri": "https://localhost:8080/"
        },
        "id": "unZRC1QxD1EG",
        "outputId": "ca1b02b6-e6db-4cdf-fd49-70b4d3094665"
      },
      "execution_count": 8,
      "outputs": [
        {
          "output_type": "stream",
          "name": "stdout",
          "text": [
            "root\n",
            " |-- id: integer (nullable = true)\n",
            " |-- first_name: string (nullable = true)\n",
            " |-- last_name: string (nullable = true)\n",
            " |-- age: integer (nullable = true)\n",
            " |-- gender: string (nullable = true)\n",
            " |-- ethnicity: string (nullable = true)\n",
            " |-- birthdate: string (nullable = true)\n",
            " |-- address: string (nullable = true)\n",
            " |-- city: string (nullable = true)\n",
            " |-- country: string (nullable = true)\n",
            " |-- phone_number: string (nullable = true)\n",
            " |-- email: string (nullable = true)\n",
            " |-- major: string (nullable = true)\n",
            " |-- gpa: double (nullable = true)\n",
            " |-- university: string (nullable = true)\n",
            "\n"
          ]
        }
      ]
    },
    {
      "cell_type": "code",
      "source": [
        "# Menampilkan 15 baris pertama dari DataFrame\n",
        "df.show(15)"
      ],
      "metadata": {
        "colab": {
          "base_uri": "https://localhost:8080/"
        },
        "id": "EetOjLBjEHhh",
        "outputId": "1ab38a97-b8f7-4a15-a6b3-809d7ac9f21e"
      },
      "execution_count": 11,
      "outputs": [
        {
          "output_type": "stream",
          "name": "stdout",
          "text": [
            "+---+----------+----------+---+--------+----------------+----------+--------------------+-----------+--------------+------------+--------------------+----------------+----+--------------------+\n",
            "| id|first_name| last_name|age|  gender|       ethnicity| birthdate|             address|       city|       country|phone_number|               email|           major| gpa|          university|\n",
            "+---+----------+----------+---+--------+----------------+----------+--------------------+-----------+--------------+------------+--------------------+----------------+----+--------------------+\n",
            "|  1|    Shandy|    Lorait| 27|  Female|      Melanesian| 9/12/1975|03 Green Ridge Point| Washington| United States|202-160-7386|      slorait0@51.la|     Engineering|1.76|Hamilton Technica...|\n",
            "|  2|     Norma|Meneghelli| 51|  Female|            Cree| 8/22/1967|    58 Onsgard Court|    Milanów|        Poland|126-241-0283|nmeneghelli1@blog...|      Psychology|2.41|University of Warsaw|\n",
            "|  3|  Chauncey|    Ivatts| 62|    Male|Central American|  1/9/1999|   959 Fuller Center|   Pęczniew|        Poland|120-159-4158|civatts2@blogline...|         Biology| 2.1|Medical Academy ...|\n",
            "|  4|   Barnabe|    Loades| 81|    Male|      Indonesian| 7/14/1976|268 Eastlawn Parkway|   Porecatu|        Brazil|102-532-1426|  bloades3@google.fr|     Engineering|2.94|Centro Universitá...|\n",
            "|  5|   Kirsten|     Aggio| 45|  Female| Native Hawaiian|11/11/1962|     66116 Union Way|Padangtikar|     Indonesia|307-834-1979|     kaggio4@nyu.edu|     Engineering|1.19|Universitas Bunda...|\n",
            "|  6|       Yul|   MacGill| 75|Bigender|     Argentinian|  2/9/1991|   83 Di Loreto Lane|      Jinli|         China|472-956-5329|      ymacgill5@g.co|      Psychology|2.12|Northeast Univers...|\n",
            "|  7| Theresina|  Luebbert| 71|  Female|          Navajo| 7/30/1961|        14 Duke Lane| Fiorentino|    San Marino|103-519-9881|tluebbert6@topsy.com|     Engineering|3.97|University of San...|\n",
            "|  8|   Hillier|   Cubbino| 93|    Male|             Ute|12/12/1962| 982 Londonderry Way|   Sionogan|   Philippines|454-111-7536|    hcubbino7@va.gov|     Engineering| 2.0|Holy Angel Univer...|\n",
            "|  9|   Micaela|    Collin| 71|  Female|           Sioux| 8/25/1967| 6611 Maywood Street|       Ta`ū|American Samoa|860-265-5430|mcollin8@domainma...|         Biology|3.02|Buddhist Acamedy ...|\n",
            "| 10|  Herminia|   Nisbith| 93|  Female|        Filipino|  4/6/1979|   616 Hallows Alley|  Guadalupe|        Mexico|658-584-4540|hnisbith9@wordpre...|      Psychology|1.49|Universidad Valle...|\n",
            "| 11|     Hewie|      Pogg| 88|    Male|Central American| 3/28/1957|   87 Spohn Junction|     Mbigou|         Gabon|430-614-2986|hpogga@squarespac...|         Biology|2.89|Université Omar B...|\n",
            "| 12|      Drew|    Basten| 45|    Male|            Crow| 7/13/1957| 0 Crest Line Street| El Quetzal|     Guatemala|263-198-2718|dbastenb@eventbri...|        Business|0.87| Universidad Galileo|\n",
            "| 13|      Aime|  Reidshaw| 62|  Female|      Salvadoran|10/31/1969|   70 Beilfuss Court|  Ranchuelo|          Cuba|788-320-5668|areidshawc@mozill...|         Biology|3.66|Instituto Superio...|\n",
            "| 14|       Wyn|  Vasyukov| 94|    Male|      Potawatomi|  7/4/1988|  88 Manitowish Lane|   Kasembon|     Indonesia|205-327-7530|    wvasyukovd@is.gd|Computer Science|2.95|Stie Perbanas Sur...|\n",
            "| 15|  Reinwald|  Boissier| 48|    Male|      Ecuadorian| 5/18/1999|   387 Waxwing Place| La Francia|     Argentina|873-759-1875|  rboissiere@tiny.cc|     Engineering|1.78|Instituto Univers...|\n",
            "+---+----------+----------+---+--------+----------------+----------+--------------------+-----------+--------------+------------+--------------------+----------------+----+--------------------+\n",
            "only showing top 15 rows\n",
            "\n"
          ]
        }
      ]
    },
    {
      "cell_type": "code",
      "source": [
        "# Menjalankan query menggunakan Spark SQL\n",
        "df.createOrReplaceTempView(\"data\")"
      ],
      "metadata": {
        "id": "Slgzb0PwEK5G"
      },
      "execution_count": 12,
      "outputs": []
    },
    {
      "cell_type": "code",
      "source": [
        "# Query 1: Menampilkan jumlah data per jurusan\n",
        "query1 = \"SELECT major, COUNT(*) AS count FROM data GROUP BY major\"\n",
        "result1 = spark.sql(query1)\n",
        "result1.show()"
      ],
      "metadata": {
        "colab": {
          "base_uri": "https://localhost:8080/"
        },
        "id": "ZMl5BCkwJ3Rh",
        "outputId": "463a19e4-aedd-4416-9683-76e889d0925d"
      },
      "execution_count": 13,
      "outputs": [
        {
          "output_type": "stream",
          "name": "stdout",
          "text": [
            "+----------------+-----+\n",
            "|           major|count|\n",
            "+----------------+-----+\n",
            "|     Engineering|    8|\n",
            "|      Psychology|    8|\n",
            "|        Business|    3|\n",
            "|Computer Science|    4|\n",
            "|         Biology|    7|\n",
            "+----------------+-----+\n",
            "\n"
          ]
        }
      ]
    },
    {
      "cell_type": "code",
      "source": [
        "# Query 2: Menampilkan usia yang kurang dari 45 tahun\n",
        "query2 = \"SELECT * FROM data WHERE age < 45\"\n",
        "result2 = spark.sql(query2)\n",
        "result2.show()"
      ],
      "metadata": {
        "colab": {
          "base_uri": "https://localhost:8080/"
        },
        "id": "UCJWrp2yG65d",
        "outputId": "f840654c-afec-43e3-9756-fea0b682c389"
      },
      "execution_count": 14,
      "outputs": [
        {
          "output_type": "stream",
          "name": "stdout",
          "text": [
            "+---+----------+---------+---+------+--------------------+----------+--------------------+-----------+-------------+------------+--------------------+-----------+----+--------------------+\n",
            "| id|first_name|last_name|age|gender|           ethnicity| birthdate|             address|       city|      country|phone_number|               email|      major| gpa|          university|\n",
            "+---+----------+---------+---+------+--------------------+----------+--------------------+-----------+-------------+------------+--------------------+-----------+----+--------------------+\n",
            "|  1|    Shandy|   Lorait| 27|Female|          Melanesian| 9/12/1975|03 Green Ridge Point| Washington|United States|202-160-7386|      slorait0@51.la|Engineering|1.76|Hamilton Technica...|\n",
            "| 16|   Lynette|    Dayce| 43|Female|              Apache|  4/4/1976|       97 Dixon Lane|     Murcia|        Spain|707-562-1915|   ldaycef@tmall.com|    Biology| 0.8|Universitat Obert...|\n",
            "| 17|      Otha|    Stoke| 41|Female|Latin American In...| 11/6/1955|   07682 Moland Road|   Malikisi|        Kenya|840-949-9752|ostokeg@shinystat...| Psychology|0.58|United States Int...|\n",
            "| 18|    Floria|     Okie| 24|Female|  Alaskan Athabascan| 8/19/1968|    3 Red Cloud Hill|Canavieiras|       Brazil|411-860-7059|fokieh@kickstarte...|Engineering|0.37|Universidade São ...|\n",
            "| 19|    Merwyn| Weildish| 27|  Male|    Central American|12/24/1994|    849 Morrow Court|      Luoqi|        China|619-863-3914|mweildishi@virgin...| Psychology|3.63|Fujian Normal Uni...|\n",
            "+---+----------+---------+---+------+--------------------+----------+--------------------+-----------+-------------+------------+--------------------+-----------+----+--------------------+\n",
            "\n"
          ]
        }
      ]
    },
    {
      "cell_type": "code",
      "source": [
        "# Query 3: Menampilkan rata-rata usia\n",
        "query3 = \"SELECT AVG(age) AS average_age FROM data\"\n",
        "result3 = spark.sql(query3)\n",
        "result3.show()"
      ],
      "metadata": {
        "colab": {
          "base_uri": "https://localhost:8080/"
        },
        "id": "OyXwedTYJVTd",
        "outputId": "cb96b6d9-41a0-4e03-b6e7-011b02c2aaef"
      },
      "execution_count": 15,
      "outputs": [
        {
          "output_type": "stream",
          "name": "stdout",
          "text": [
            "+-----------------+\n",
            "|      average_age|\n",
            "+-----------------+\n",
            "|66.13333333333334|\n",
            "+-----------------+\n",
            "\n"
          ]
        }
      ]
    },
    {
      "cell_type": "code",
      "source": [
        "# Query 4: Menampilkan jumlah data per negara\n",
        "query4 = \"SELECT country, COUNT(*) AS count FROM data GROUP BY country\"\n",
        "result4 = spark.sql(query4)\n",
        "result4.show()"
      ],
      "metadata": {
        "colab": {
          "base_uri": "https://localhost:8080/"
        },
        "id": "3uABsHYEJeK7",
        "outputId": "cea3704e-2ee2-4d73-f780-7873290b1b66"
      },
      "execution_count": 16,
      "outputs": [
        {
          "output_type": "stream",
          "name": "stdout",
          "text": [
            "+--------------+-----+\n",
            "|       country|count|\n",
            "+--------------+-----+\n",
            "|        Sweden|    1|\n",
            "|   Philippines|    4|\n",
            "|        France|    1|\n",
            "|     Argentina|    1|\n",
            "|    San Marino|    1|\n",
            "|    Madagascar|    1|\n",
            "| United States|    1|\n",
            "|         China|    5|\n",
            "|American Samoa|    1|\n",
            "|         Gabon|    1|\n",
            "|         Spain|    1|\n",
            "|          Cuba|    1|\n",
            "|        Mexico|    1|\n",
            "|     Indonesia|    3|\n",
            "|     Guatemala|    1|\n",
            "|      Honduras|    1|\n",
            "|        Brazil|    2|\n",
            "|         Kenya|    1|\n",
            "|        Poland|    2|\n",
            "+--------------+-----+\n",
            "\n"
          ]
        }
      ]
    },
    {
      "cell_type": "code",
      "source": [
        "# Query 5: Menampilkan IPK dengan nilai tertinggi per Jurusan\n",
        "query5 = \"SELECT major, MAX(gpa) AS max_gpa FROM data GROUP BY major\"\n",
        "result5 = spark.sql(query5)\n",
        "result5.show()"
      ],
      "metadata": {
        "id": "t2tFkCfuJoxI",
        "outputId": "a7441b74-7ff4-4097-9f0b-7d59ef01eef1",
        "colab": {
          "base_uri": "https://localhost:8080/"
        }
      },
      "execution_count": 22,
      "outputs": [
        {
          "output_type": "stream",
          "name": "stdout",
          "text": [
            "+----------------+-------+\n",
            "|           major|max_gpa|\n",
            "+----------------+-------+\n",
            "|     Engineering|   3.97|\n",
            "|      Psychology|   3.95|\n",
            "|        Business|   3.88|\n",
            "|Computer Science|   3.46|\n",
            "|         Biology|   3.66|\n",
            "+----------------+-------+\n",
            "\n"
          ]
        }
      ]
    },
    {
      "cell_type": "code",
      "source": [
        "# Perbaikan Query 5: Menampilkan data nama, jurusan, ipk, dan universitas dengan nilai tertinggi per jurusan\n",
        "query5 = \"SELECT first_name, last_name, major, gpa, university FROM (SELECT first_name, last_name, major, gpa, university, ROW_NUMBER() OVER (PARTITION BY major ORDER BY gpa DESC) AS rank FROM data) ranked WHERE rank = 1\"\n",
        "result5 = spark.sql(query5)\n",
        "result5.show()"
      ],
      "metadata": {
        "id": "OeDnSOAzP38J",
        "outputId": "a18e0926-6fe4-49f2-f008-f7d1c19ff6d2",
        "colab": {
          "base_uri": "https://localhost:8080/"
        }
      },
      "execution_count": 26,
      "outputs": [
        {
          "output_type": "stream",
          "name": "stdout",
          "text": [
            "+----------+---------+----------------+----+--------------------+\n",
            "|first_name|last_name|           major| gpa|          university|\n",
            "+----------+---------+----------------+----+--------------------+\n",
            "|      Aime| Reidshaw|         Biology|3.66|Instituto Superio...|\n",
            "|    Ashlie|Molineaux|        Business|3.88|    Växjö University|\n",
            "|    Fergus|   Meneer|Computer Science|3.46|University of Per...|\n",
            "| Theresina| Luebbert|     Engineering|3.97|University of San...|\n",
            "|     Suzie|St. Clair|      Psychology|3.95|Ecole Nationale S...|\n",
            "+----------+---------+----------------+----+--------------------+\n",
            "\n"
          ]
        }
      ]
    },
    {
      "cell_type": "code",
      "source": [],
      "metadata": {
        "id": "W6TYk5DZR3sF"
      },
      "execution_count": null,
      "outputs": []
    }
  ]
}