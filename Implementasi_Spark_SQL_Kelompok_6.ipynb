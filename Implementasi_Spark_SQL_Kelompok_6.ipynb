{
  "nbformat": 4,
  "nbformat_minor": 0,
  "metadata": {
    "colab": {
      "provenance": [],
      "authorship_tag": "ABX9TyMpT1NDJGWlxo8LXiSnWbwa",
      "include_colab_link": true
    },
    "kernelspec": {
      "name": "python3",
      "display_name": "Python 3"
    },
    "language_info": {
      "name": "python"
    }
  },
  "cells": [
    {
      "cell_type": "markdown",
      "metadata": {
        "id": "view-in-github",
        "colab_type": "text"
      },
      "source": [
        "<a href=\"https://colab.research.google.com/github/tasyasvdh09/UAS_BIGDATA/blob/main/Implementasi_Spark_SQL_Kelompok_6.ipynb\" target=\"_parent\"><img src=\"https://colab.research.google.com/assets/colab-badge.svg\" alt=\"Open In Colab\"/></a>"
      ]
    },
    {
      "cell_type": "markdown",
      "source": [
        "## **Ujian Akhir Semester (UAS) - BIG DATA**"
      ],
      "metadata": {
        "id": "eC0ZnePw9Yox"
      }
    },
    {
      "cell_type": "markdown",
      "source": [
        "**Kelompok 6**\n",
        "1. Annisa Mutiara\n",
        "2. Sindy Alvina Khoiriyah\n",
        "3. Tasya Sevia Adha"
      ],
      "metadata": {
        "id": "hVOFk-HS9Iw9"
      }
    },
    {
      "cell_type": "markdown",
      "source": [
        "### **Implementasi Spark SQL**"
      ],
      "metadata": {
        "id": "girt9AYQ8_o1"
      }
    },
    {
      "cell_type": "code",
      "source": [
        "# import folder yang ada di drive\n",
        "from google.colab import drive\n",
        "drive.mount('/content/drive')"
      ],
      "metadata": {
        "colab": {
          "base_uri": "https://localhost:8080/"
        },
        "id": "vw0WqddGDh4H",
        "outputId": "e589d5a3-759f-45ad-9297-491465bd2c7d"
      },
      "execution_count": null,
      "outputs": [
        {
          "output_type": "stream",
          "name": "stdout",
          "text": [
            "Mounted at /content/drive\n"
          ]
        }
      ]
    },
    {
      "cell_type": "code",
      "execution_count": null,
      "metadata": {
        "colab": {
          "base_uri": "https://localhost:8080/"
        },
        "id": "bCHt4vQ68PAQ",
        "outputId": "166cc855-e9f9-4566-9d59-344e54962068"
      },
      "outputs": [
        {
          "output_type": "stream",
          "name": "stdout",
          "text": [
            "Looking in indexes: https://pypi.org/simple, https://us-python.pkg.dev/colab-wheels/public/simple/\n",
            "Requirement already satisfied: pyspark in /usr/local/lib/python3.10/dist-packages (3.4.0)\n",
            "Requirement already satisfied: py4j==0.10.9.7 in /usr/local/lib/python3.10/dist-packages (from pyspark) (0.10.9.7)\n"
          ]
        }
      ],
      "source": [
        "# Install Apache Spark\n",
        "!pip install pyspark"
      ]
    },
    {
      "cell_type": "code",
      "source": [
        "# Import SparkSession\n",
        "from pyspark.sql import SparkSession"
      ],
      "metadata": {
        "id": "3iJSyhhs82VF"
      },
      "execution_count": null,
      "outputs": []
    },
    {
      "cell_type": "code",
      "source": [
        "# Inisialisasi SparkSession\n",
        "spark = SparkSession.builder \\\n",
        "    .appName(\"Implementasi Spark SQL\") \\\n",
        "    .getOrCreate()"
      ],
      "metadata": {
        "id": "Gif4hD3Z9zpN"
      },
      "execution_count": null,
      "outputs": []
    },
    {
      "cell_type": "code",
      "source": [
        "# Membaca data dari file CSV\n",
        "df = spark.read.csv(\"/content/drive/MyDrive/BIG DATA/UAS/data dummy bigdata.csv\", header=True, inferSchema=True)"
      ],
      "metadata": {
        "id": "uSvzK4bb96LX"
      },
      "execution_count": null,
      "outputs": []
    },
    {
      "cell_type": "code",
      "source": [
        "# Menampilkan schema dari DataFrame\n",
        "df.printSchema()"
      ],
      "metadata": {
        "colab": {
          "base_uri": "https://localhost:8080/"
        },
        "id": "unZRC1QxD1EG",
        "outputId": "ce2e3758-3cd4-4a96-c550-c4af7a22d9e4"
      },
      "execution_count": null,
      "outputs": [
        {
          "output_type": "stream",
          "name": "stdout",
          "text": [
            "root\n",
            " |-- id: integer (nullable = true)\n",
            " |-- first_name: string (nullable = true)\n",
            " |-- last_name: string (nullable = true)\n",
            " |-- age: integer (nullable = true)\n",
            " |-- gender: string (nullable = true)\n",
            " |-- ethnicity: string (nullable = true)\n",
            " |-- birthdate: string (nullable = true)\n",
            " |-- address: string (nullable = true)\n",
            " |-- city: string (nullable = true)\n",
            " |-- country: string (nullable = true)\n",
            " |-- phone_number: string (nullable = true)\n",
            " |-- email: string (nullable = true)\n",
            " |-- major: string (nullable = true)\n",
            " |-- gpa: double (nullable = true)\n",
            " |-- university: string (nullable = true)\n",
            "\n"
          ]
        }
      ]
    },
    {
      "cell_type": "code",
      "source": [
        "# Menampilkan 30 baris pertama dari DataFrame\n",
        "df.show(30)"
      ],
      "metadata": {
        "colab": {
          "base_uri": "https://localhost:8080/"
        },
        "id": "EetOjLBjEHhh",
        "outputId": "1d919030-03b0-469e-f3ce-68ea463b1272"
      },
      "execution_count": null,
      "outputs": [
        {
          "output_type": "stream",
          "name": "stdout",
          "text": [
            "+---+----------+----------+---+-----------+--------------------+----------+--------------------+-----------+--------------+------------+--------------------+----------------+----+--------------------+\n",
            "| id|first_name| last_name|age|     gender|           ethnicity| birthdate|             address|       city|       country|phone_number|               email|           major| gpa|          university|\n",
            "+---+----------+----------+---+-----------+--------------------+----------+--------------------+-----------+--------------+------------+--------------------+----------------+----+--------------------+\n",
            "|  1|    Shandy|    Lorait| 27|     Female|          Melanesian| 9/12/1975|03 Green Ridge Point| Washington| United States|202-160-7386|      slorait0@51.la|     Engineering|1.76|Hamilton Technica...|\n",
            "|  2|     Norma|Meneghelli| 51|     Female|                Cree| 8/22/1967|    58 Onsgard Court|    Milanów|        Poland|126-241-0283|nmeneghelli1@blog...|      Psychology|2.41|University of Warsaw|\n",
            "|  3|  Chauncey|    Ivatts| 62|       Male|    Central American|  1/9/1999|   959 Fuller Center|   Pęczniew|        Poland|120-159-4158|civatts2@blogline...|         Biology| 2.1|Medical Academy ...|\n",
            "|  4|   Barnabe|    Loades| 81|       Male|          Indonesian| 7/14/1976|268 Eastlawn Parkway|   Porecatu|        Brazil|102-532-1426|  bloades3@google.fr|     Engineering|2.94|Centro Universitá...|\n",
            "|  5|   Kirsten|     Aggio| 45|     Female|     Native Hawaiian|11/11/1962|     66116 Union Way|Padangtikar|     Indonesia|307-834-1979|     kaggio4@nyu.edu|     Engineering|1.19|Universitas Bunda...|\n",
            "|  6|       Yul|   MacGill| 75|   Bigender|         Argentinian|  2/9/1991|   83 Di Loreto Lane|      Jinli|         China|472-956-5329|      ymacgill5@g.co|      Psychology|2.12|Northeast Univers...|\n",
            "|  7| Theresina|  Luebbert| 71|     Female|              Navajo| 7/30/1961|        14 Duke Lane| Fiorentino|    San Marino|103-519-9881|tluebbert6@topsy.com|     Engineering|3.97|University of San...|\n",
            "|  8|   Hillier|   Cubbino| 93|       Male|                 Ute|12/12/1962| 982 Londonderry Way|   Sionogan|   Philippines|454-111-7536|    hcubbino7@va.gov|     Engineering| 2.0|Holy Angel Univer...|\n",
            "|  9|   Micaela|    Collin| 71|     Female|               Sioux| 8/25/1967| 6611 Maywood Street|       Ta`ū|American Samoa|860-265-5430|mcollin8@domainma...|         Biology|3.02|Buddhist Acamedy ...|\n",
            "| 10|  Herminia|   Nisbith| 93|     Female|            Filipino|  4/6/1979|   616 Hallows Alley|  Guadalupe|        Mexico|658-584-4540|hnisbith9@wordpre...|      Psychology|1.49|Universidad Valle...|\n",
            "| 11|     Hewie|      Pogg| 88|       Male|    Central American| 3/28/1957|   87 Spohn Junction|     Mbigou|         Gabon|430-614-2986|hpogga@squarespac...|         Biology|2.89|Université Omar B...|\n",
            "| 12|      Drew|    Basten| 45|       Male|                Crow| 7/13/1957| 0 Crest Line Street| El Quetzal|     Guatemala|263-198-2718|dbastenb@eventbri...|        Business|0.87| Universidad Galileo|\n",
            "| 13|      Aime|  Reidshaw| 62|     Female|          Salvadoran|10/31/1969|   70 Beilfuss Court|  Ranchuelo|          Cuba|788-320-5668|areidshawc@mozill...|         Biology|3.66|Instituto Superio...|\n",
            "| 14|       Wyn|  Vasyukov| 94|       Male|          Potawatomi|  7/4/1988|  88 Manitowish Lane|   Kasembon|     Indonesia|205-327-7530|    wvasyukovd@is.gd|Computer Science|2.95|Stie Perbanas Sur...|\n",
            "| 15|  Reinwald|  Boissier| 48|       Male|          Ecuadorian| 5/18/1999|   387 Waxwing Place| La Francia|     Argentina|873-759-1875|  rboissiere@tiny.cc|     Engineering|1.78|Instituto Univers...|\n",
            "| 16|   Lynette|     Dayce| 43|     Female|              Apache|  4/4/1976|       97 Dixon Lane|     Murcia|         Spain|707-562-1915|   ldaycef@tmall.com|         Biology| 0.8|Universitat Obert...|\n",
            "| 17|      Otha|     Stoke| 41|     Female|Latin American In...| 11/6/1955|   07682 Moland Road|   Malikisi|         Kenya|840-949-9752|ostokeg@shinystat...|      Psychology|0.58|United States Int...|\n",
            "| 18|    Floria|      Okie| 24|     Female|  Alaskan Athabascan| 8/19/1968|    3 Red Cloud Hill|Canavieiras|        Brazil|411-860-7059|fokieh@kickstarte...|     Engineering|0.37|Universidade São ...|\n",
            "| 19|    Merwyn|  Weildish| 27|       Male|    Central American|12/24/1994|    849 Morrow Court|      Luoqi|         China|619-863-3914|mweildishi@virgin...|      Psychology|3.63|Fujian Normal Uni...|\n",
            "| 20|     Suzie| St. Clair| 64|     Female|              Paiute| 9/23/1994|31527 Westerfield...|     Vittel|        France|492-304-0967| sstclairj@ocn.ne.jp|      Psychology|3.95|Ecole Nationale S...|\n",
            "| 21|    Joella|    Cumber| 61|     Female|               White|  1/9/1990|    1147 Buhler Road| Bagumbayan|   Philippines|433-710-8376|jcumberk@redcross...|         Biology|1.71| Arellano University|\n",
            "| 22| Gwendolin| Laugharne| 66|     Female|Latin American In...|  2/2/1973|   487 American Lane|   Taochuan|         China|364-765-1276|glaugharnel@googl...|         Biology|3.44|   Ludong University|\n",
            "| 23|    Fergus|    Meneer| 87|       Male|      Tohono O'Odham| 9/23/1955|    5 Memorial Court|    Tiguion|   Philippines|100-248-9999|fmeneerm@twitpic.com|Computer Science|3.46|University of Per...|\n",
            "| 24|    Ashlie| Molineaux| 70|     Female|          Sri Lankan|  7/1/1952|  8557 Anzinger Hill| Norrköping|        Sweden|477-856-8116|amolineauxn@mysql...|        Business|3.88|    Växjö University|\n",
            "| 25|    Grayce|     Draco| 89|     Female|           Chickasaw| 8/16/1954|83159 Rutledge Te...|  Antsohihy|    Madagascar|549-962-6352|gdracoo@theguardi...|      Psychology|0.55|Université de Tol...|\n",
            "| 26|      Saxe|    Heugle| 58|       Male|               Yaqui| 5/15/2005|   00 Anzinger Trail|    El Plan|      Honduras|792-184-2450|    sheuglep@mtv.com|        Business|0.68|Universidad José ...|\n",
            "| 27|   Ceciley|    Hawker| 88|     Female|                Thai| 2/15/1950|       3 Dapin Trail|Yanglinqiao|         China|663-414-3130| chawkerq@census.gov|     Engineering|3.34|   Shanxi University|\n",
            "| 28|    Stephi| Townshend| 94|     Female|          Indonesian| 4/12/1971|84085 Steensland ...| Tigarunggu|     Indonesia|750-705-2337|stownshendr@colum...|Computer Science|0.45|Institut Teknolog...|\n",
            "| 29|     Cathi|    Bruins| 89|     Female|           Menominee| 9/15/1956|346 Lakewood Gard...| Sanxixiang|         China|221-963-3306|     cbruinss@wp.com|Computer Science|1.92|Xi'an University ...|\n",
            "| 30|    Cherin|   Yoodall| 77|Genderfluid|          Vietnamese|11/30/1950|      7 Thierer Lane|      Lalig|   Philippines|321-612-0926|cyoodallt@ustream.tv|      Psychology|1.77|University of San...|\n",
            "+---+----------+----------+---+-----------+--------------------+----------+--------------------+-----------+--------------+------------+--------------------+----------------+----+--------------------+\n",
            "\n"
          ]
        }
      ]
    },
    {
      "cell_type": "code",
      "source": [
        "# Menjalankan query menggunakan Spark SQL\n",
        "df.createOrReplaceTempView(\"data\")"
      ],
      "metadata": {
        "id": "Slgzb0PwEK5G"
      },
      "execution_count": null,
      "outputs": []
    },
    {
      "cell_type": "code",
      "source": [
        "# Query 1: Menampilkan jumlah data per jurusan\n",
        "query1 = \"SELECT major, COUNT(*) AS count FROM data GROUP BY major\"\n",
        "result1 = spark.sql(query1)\n",
        "result1.show()"
      ],
      "metadata": {
        "colab": {
          "base_uri": "https://localhost:8080/"
        },
        "id": "ZMl5BCkwJ3Rh",
        "outputId": "1b5b2a10-fc3a-48bd-8f66-611abeb0c35e"
      },
      "execution_count": null,
      "outputs": [
        {
          "output_type": "stream",
          "name": "stdout",
          "text": [
            "+----------------+-----+\n",
            "|           major|count|\n",
            "+----------------+-----+\n",
            "|     Engineering|    8|\n",
            "|      Psychology|    8|\n",
            "|        Business|    3|\n",
            "|Computer Science|    4|\n",
            "|         Biology|    7|\n",
            "+----------------+-----+\n",
            "\n"
          ]
        }
      ]
    },
    {
      "cell_type": "code",
      "source": [
        "# Query 2: Menampilkan usia yang kurang dari 45 tahun\n",
        "query2 = \"SELECT * FROM data WHERE age < 45\"\n",
        "result2 = spark.sql(query2)\n",
        "result2.show()"
      ],
      "metadata": {
        "colab": {
          "base_uri": "https://localhost:8080/"
        },
        "id": "UCJWrp2yG65d",
        "outputId": "9134072e-6b3f-4e8d-f8f1-47b0d5049954"
      },
      "execution_count": null,
      "outputs": [
        {
          "output_type": "stream",
          "name": "stdout",
          "text": [
            "+---+----------+---------+---+------+--------------------+----------+--------------------+-----------+-------------+------------+--------------------+-----------+----+--------------------+\n",
            "| id|first_name|last_name|age|gender|           ethnicity| birthdate|             address|       city|      country|phone_number|               email|      major| gpa|          university|\n",
            "+---+----------+---------+---+------+--------------------+----------+--------------------+-----------+-------------+------------+--------------------+-----------+----+--------------------+\n",
            "|  1|    Shandy|   Lorait| 27|Female|          Melanesian| 9/12/1975|03 Green Ridge Point| Washington|United States|202-160-7386|      slorait0@51.la|Engineering|1.76|Hamilton Technica...|\n",
            "| 16|   Lynette|    Dayce| 43|Female|              Apache|  4/4/1976|       97 Dixon Lane|     Murcia|        Spain|707-562-1915|   ldaycef@tmall.com|    Biology| 0.8|Universitat Obert...|\n",
            "| 17|      Otha|    Stoke| 41|Female|Latin American In...| 11/6/1955|   07682 Moland Road|   Malikisi|        Kenya|840-949-9752|ostokeg@shinystat...| Psychology|0.58|United States Int...|\n",
            "| 18|    Floria|     Okie| 24|Female|  Alaskan Athabascan| 8/19/1968|    3 Red Cloud Hill|Canavieiras|       Brazil|411-860-7059|fokieh@kickstarte...|Engineering|0.37|Universidade São ...|\n",
            "| 19|    Merwyn| Weildish| 27|  Male|    Central American|12/24/1994|    849 Morrow Court|      Luoqi|        China|619-863-3914|mweildishi@virgin...| Psychology|3.63|Fujian Normal Uni...|\n",
            "+---+----------+---------+---+------+--------------------+----------+--------------------+-----------+-------------+------------+--------------------+-----------+----+--------------------+\n",
            "\n"
          ]
        }
      ]
    },
    {
      "cell_type": "code",
      "source": [
        "# Query 3: Menampilkan rata-rata usia\n",
        "query3 = \"SELECT AVG(age) AS average_age FROM data\"\n",
        "result3 = spark.sql(query3)\n",
        "result3.show()"
      ],
      "metadata": {
        "colab": {
          "base_uri": "https://localhost:8080/"
        },
        "id": "OyXwedTYJVTd",
        "outputId": "77ae87ae-bc33-4386-be81-3e6e297b61da"
      },
      "execution_count": null,
      "outputs": [
        {
          "output_type": "stream",
          "name": "stdout",
          "text": [
            "+-----------------+\n",
            "|      average_age|\n",
            "+-----------------+\n",
            "|66.13333333333334|\n",
            "+-----------------+\n",
            "\n"
          ]
        }
      ]
    },
    {
      "cell_type": "code",
      "source": [
        "# Query 4: Menampilkan jumlah data per negara\n",
        "query4 = \"SELECT country, COUNT(*) AS count FROM data GROUP BY country\"\n",
        "result4 = spark.sql(query4)\n",
        "result4.show()"
      ],
      "metadata": {
        "colab": {
          "base_uri": "https://localhost:8080/"
        },
        "id": "3uABsHYEJeK7",
        "outputId": "15dcaa43-90d3-4c36-b0de-21c52b1d319b"
      },
      "execution_count": null,
      "outputs": [
        {
          "output_type": "stream",
          "name": "stdout",
          "text": [
            "+--------------+-----+\n",
            "|       country|count|\n",
            "+--------------+-----+\n",
            "|        Sweden|    1|\n",
            "|   Philippines|    4|\n",
            "|        France|    1|\n",
            "|     Argentina|    1|\n",
            "|    San Marino|    1|\n",
            "|    Madagascar|    1|\n",
            "| United States|    1|\n",
            "|         China|    5|\n",
            "|American Samoa|    1|\n",
            "|         Gabon|    1|\n",
            "|         Spain|    1|\n",
            "|          Cuba|    1|\n",
            "|        Mexico|    1|\n",
            "|     Indonesia|    3|\n",
            "|     Guatemala|    1|\n",
            "|      Honduras|    1|\n",
            "|        Brazil|    2|\n",
            "|         Kenya|    1|\n",
            "|        Poland|    2|\n",
            "+--------------+-----+\n",
            "\n"
          ]
        }
      ]
    },
    {
      "cell_type": "code",
      "source": [],
      "metadata": {
        "id": "t2tFkCfuJoxI"
      },
      "execution_count": null,
      "outputs": []
    }
  ]
}